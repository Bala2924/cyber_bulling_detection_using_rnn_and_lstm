{
 "cells": [
  {
   "cell_type": "markdown",
   "id": "58a7dc8d",
   "metadata": {},
   "source": [
    "### LSTM ARCHITECTURE"
   ]
  },
  {
   "cell_type": "code",
   "execution_count": 1,
   "id": "f40f6596",
   "metadata": {},
   "outputs": [],
   "source": [
    "import pandas as pd\n",
    "import numpy as np"
   ]
  },
  {
   "cell_type": "code",
   "execution_count": 2,
   "id": "62beca64",
   "metadata": {},
   "outputs": [
    {
     "data": {
      "text/html": [
       "<div>\n",
       "<style scoped>\n",
       "    .dataframe tbody tr th:only-of-type {\n",
       "        vertical-align: middle;\n",
       "    }\n",
       "\n",
       "    .dataframe tbody tr th {\n",
       "        vertical-align: top;\n",
       "    }\n",
       "\n",
       "    .dataframe thead th {\n",
       "        text-align: right;\n",
       "    }\n",
       "</style>\n",
       "<table border=\"1\" class=\"dataframe\">\n",
       "  <thead>\n",
       "    <tr style=\"text-align: right;\">\n",
       "      <th></th>\n",
       "      <th>tweet_text</th>\n",
       "      <th>cyberbullying_type</th>\n",
       "    </tr>\n",
       "  </thead>\n",
       "  <tbody>\n",
       "    <tr>\n",
       "      <th>0</th>\n",
       "      <td>Why is #aussietv so white? #MKR #theblock #ImA...</td>\n",
       "      <td>not_cyberbullying</td>\n",
       "    </tr>\n",
       "    <tr>\n",
       "      <th>1</th>\n",
       "      <td>@XochitlSuckkks a classy whore? Or more red ve...</td>\n",
       "      <td>not_cyberbullying</td>\n",
       "    </tr>\n",
       "    <tr>\n",
       "      <th>2</th>\n",
       "      <td>@Jason_Gio meh. :P  thanks for the heads up, b...</td>\n",
       "      <td>not_cyberbullying</td>\n",
       "    </tr>\n",
       "    <tr>\n",
       "      <th>3</th>\n",
       "      <td>@RudhoeEnglish This is an ISIS account pretend...</td>\n",
       "      <td>not_cyberbullying</td>\n",
       "    </tr>\n",
       "    <tr>\n",
       "      <th>4</th>\n",
       "      <td>@Raja5aab @Quickieleaks Yes, the test of god i...</td>\n",
       "      <td>not_cyberbullying</td>\n",
       "    </tr>\n",
       "  </tbody>\n",
       "</table>\n",
       "</div>"
      ],
      "text/plain": [
       "                                          tweet_text cyberbullying_type\n",
       "0  Why is #aussietv so white? #MKR #theblock #ImA...  not_cyberbullying\n",
       "1  @XochitlSuckkks a classy whore? Or more red ve...  not_cyberbullying\n",
       "2  @Jason_Gio meh. :P  thanks for the heads up, b...  not_cyberbullying\n",
       "3  @RudhoeEnglish This is an ISIS account pretend...  not_cyberbullying\n",
       "4  @Raja5aab @Quickieleaks Yes, the test of god i...  not_cyberbullying"
      ]
     },
     "execution_count": 2,
     "metadata": {},
     "output_type": "execute_result"
    }
   ],
   "source": [
    "Data = pd.read_csv('CYBER.csv', encoding=\"latin-1\")\n",
    "Data.head()"
   ]
  },
  {
   "cell_type": "code",
   "execution_count": 3,
   "id": "43b4bf60",
   "metadata": {},
   "outputs": [
    {
     "data": {
      "text/html": [
       "<div>\n",
       "<style scoped>\n",
       "    .dataframe tbody tr th:only-of-type {\n",
       "        vertical-align: middle;\n",
       "    }\n",
       "\n",
       "    .dataframe tbody tr th {\n",
       "        vertical-align: top;\n",
       "    }\n",
       "\n",
       "    .dataframe thead th {\n",
       "        text-align: right;\n",
       "    }\n",
       "</style>\n",
       "<table border=\"1\" class=\"dataframe\">\n",
       "  <thead>\n",
       "    <tr style=\"text-align: right;\">\n",
       "      <th></th>\n",
       "      <th>tweet_text</th>\n",
       "      <th>cyberbullying_type</th>\n",
       "    </tr>\n",
       "  </thead>\n",
       "  <tbody>\n",
       "    <tr>\n",
       "      <th>31890</th>\n",
       "      <td>Black ppl aren't expected to do anything, depe...</td>\n",
       "      <td>ethnicity</td>\n",
       "    </tr>\n",
       "    <tr>\n",
       "      <th>31891</th>\n",
       "      <td>Turner did not withhold his disappointment. Tu...</td>\n",
       "      <td>ethnicity</td>\n",
       "    </tr>\n",
       "    <tr>\n",
       "      <th>31892</th>\n",
       "      <td>I swear to God. This dumb nigger bitch. I have...</td>\n",
       "      <td>ethnicity</td>\n",
       "    </tr>\n",
       "    <tr>\n",
       "      <th>31893</th>\n",
       "      <td>Yea fuck you RT @therealexel: IF YOURE A NIGGE...</td>\n",
       "      <td>ethnicity</td>\n",
       "    </tr>\n",
       "    <tr>\n",
       "      <th>31894</th>\n",
       "      <td>Bro. U gotta chill RT @CHILLShrammy: Dog FUCK ...</td>\n",
       "      <td>ethnicity</td>\n",
       "    </tr>\n",
       "  </tbody>\n",
       "</table>\n",
       "</div>"
      ],
      "text/plain": [
       "                                              tweet_text cyberbullying_type\n",
       "31890  Black ppl aren't expected to do anything, depe...          ethnicity\n",
       "31891  Turner did not withhold his disappointment. Tu...          ethnicity\n",
       "31892  I swear to God. This dumb nigger bitch. I have...          ethnicity\n",
       "31893  Yea fuck you RT @therealexel: IF YOURE A NIGGE...          ethnicity\n",
       "31894  Bro. U gotta chill RT @CHILLShrammy: Dog FUCK ...          ethnicity"
      ]
     },
     "execution_count": 3,
     "metadata": {},
     "output_type": "execute_result"
    }
   ],
   "source": [
    "Data.tail()"
   ]
  },
  {
   "cell_type": "code",
   "execution_count": 4,
   "id": "2e123f6d",
   "metadata": {},
   "outputs": [
    {
     "data": {
      "text/plain": [
       "array(['not_cyberbullying', 'religion', 'age', 'ethnicity'], dtype=object)"
      ]
     },
     "execution_count": 4,
     "metadata": {},
     "output_type": "execute_result"
    }
   ],
   "source": [
    "Data['cyberbullying_type'].unique()"
   ]
  },
  {
   "cell_type": "code",
   "execution_count": 5,
   "id": "59b21d72",
   "metadata": {},
   "outputs": [
    {
     "data": {
      "text/plain": [
       "[7944, 7961, 7992, 7998]"
      ]
     },
     "execution_count": 5,
     "metadata": {},
     "output_type": "execute_result"
    }
   ],
   "source": [
    "sorted(Data['cyberbullying_type'].value_counts())"
   ]
  },
  {
   "cell_type": "code",
   "execution_count": 6,
   "id": "15eeec04",
   "metadata": {},
   "outputs": [],
   "source": [
    "Data['tweet_text'] = Data['tweet_text'].apply(lambda x: x.lower() if pd.notna(x) else \"\")"
   ]
  },
  {
   "cell_type": "code",
   "execution_count": 7,
   "id": "7537b6b5",
   "metadata": {},
   "outputs": [],
   "source": [
    "from sklearn.preprocessing import LabelEncoder\n",
    "\n",
    "label_encoder = LabelEncoder()\n",
    "Data['cyberbullying_type'] = label_encoder.fit_transform(Data['cyberbullying_type'])"
   ]
  },
  {
   "cell_type": "code",
   "execution_count": 8,
   "id": "92676667",
   "metadata": {},
   "outputs": [],
   "source": [
    "num_classes = len(label_encoder.classes_) "
   ]
  },
  {
   "cell_type": "code",
   "execution_count": 9,
   "id": "753f4b88",
   "metadata": {},
   "outputs": [],
   "source": [
    "x = Data['tweet_text']\n",
    "y = Data['cyberbullying_type']"
   ]
  },
  {
   "cell_type": "code",
   "execution_count": 10,
   "id": "6369e19b",
   "metadata": {},
   "outputs": [],
   "source": [
    "from tensorflow.keras.utils import to_categorical\n",
    "\n",
    "y = to_categorical(y, num_classes=num_classes)"
   ]
  },
  {
   "cell_type": "code",
   "execution_count": 11,
   "id": "526d9637",
   "metadata": {},
   "outputs": [],
   "source": [
    "from sklearn.model_selection import train_test_split\n",
    "\n",
    "x_train, x_test, y_train, y_test = train_test_split(x, y, test_size=0.2, random_state=42)"
   ]
  },
  {
   "cell_type": "code",
   "execution_count": 12,
   "id": "10b2f33c",
   "metadata": {},
   "outputs": [],
   "source": [
    "max_words = 10000  \n",
    "max_sequence_length = 100"
   ]
  },
  {
   "cell_type": "code",
   "execution_count": 13,
   "id": "b94b922f",
   "metadata": {},
   "outputs": [],
   "source": [
    "from tensorflow.keras.preprocessing.text import Tokenizer\n",
    "\n",
    "tokenizer = Tokenizer(num_words=max_words)\n",
    "tokenizer.fit_on_texts(x_train)"
   ]
  },
  {
   "cell_type": "code",
   "execution_count": 14,
   "id": "8f4e9c46",
   "metadata": {},
   "outputs": [],
   "source": [
    "X_train_sequences = tokenizer.texts_to_sequences(x_train)\n",
    "X_test_sequences = tokenizer.texts_to_sequences(x_test)"
   ]
  },
  {
   "cell_type": "code",
   "execution_count": 15,
   "id": "6f831140",
   "metadata": {},
   "outputs": [],
   "source": [
    "from tensorflow.keras.preprocessing.sequence import pad_sequences\n",
    "\n",
    "X_train_padded = pad_sequences(X_train_sequences, maxlen=max_sequence_length)\n",
    "X_test_padded = pad_sequences(X_test_sequences, maxlen=max_sequence_length)"
   ]
  },
  {
   "cell_type": "code",
   "execution_count": 16,
   "id": "490ac782",
   "metadata": {},
   "outputs": [],
   "source": [
    "embedding_dim = 100  \n",
    "lstm_units = 128"
   ]
  },
  {
   "cell_type": "code",
   "execution_count": 17,
   "id": "e8491acc",
   "metadata": {},
   "outputs": [],
   "source": [
    "from tensorflow.keras.models import Sequential\n",
    "from tensorflow.keras.layers import Embedding\n",
    "from tensorflow.keras.layers import Bidirectional\n",
    "from tensorflow.keras.layers import LSTM\n",
    "from tensorflow.keras.layers import Dense"
   ]
  },
  {
   "cell_type": "code",
   "execution_count": 18,
   "id": "52b2d9ee",
   "metadata": {},
   "outputs": [],
   "source": [
    "model = Sequential()\n",
    "model.add(Embedding(input_dim=max_words, output_dim=embedding_dim, input_length=max_sequence_length))\n",
    "model.add(Bidirectional(LSTM(units=lstm_units, dropout=0.2, recurrent_dropout=0.2)))\n",
    "model.add(Dense(units=num_classes, activation='softmax'))"
   ]
  },
  {
   "cell_type": "code",
   "execution_count": 19,
   "id": "db721ff6",
   "metadata": {},
   "outputs": [],
   "source": [
    "model.compile(loss='categorical_crossentropy', optimizer='adam', metrics=['accuracy'])"
   ]
  },
  {
   "cell_type": "code",
   "execution_count": 20,
   "id": "66c82a7d",
   "metadata": {},
   "outputs": [],
   "source": [
    "from tensorflow.keras.callbacks import ModelCheckpoint\n",
    "\n",
    "model_path = \"LSTM.h5\"\n",
    "\n",
    "M = ModelCheckpoint(model_path, monitor='accuracy', verbose=1, save_best_only=True, mode='max')"
   ]
  },
  {
   "cell_type": "code",
   "execution_count": 21,
   "id": "34a45025",
   "metadata": {},
   "outputs": [],
   "source": [
    "epochs = 10\n",
    "batch_size = 32"
   ]
  },
  {
   "cell_type": "code",
   "execution_count": 22,
   "id": "1a806964",
   "metadata": {},
   "outputs": [
    {
     "name": "stdout",
     "output_type": "stream",
     "text": [
      "Epoch 1/10\n",
      "718/718 [==============================] - ETA: 0s - loss: 0.2855 - accuracy: 0.8942\n",
      "Epoch 1: accuracy improved from -inf to 0.89423, saving model to LSTM.h5\n",
      "718/718 [==============================] - 228s 309ms/step - loss: 0.2855 - accuracy: 0.8942 - val_loss: 0.1096 - val_accuracy: 0.9683\n",
      "Epoch 2/10\n",
      "718/718 [==============================] - ETA: 0s - loss: 0.0900 - accuracy: 0.9730\n",
      "Epoch 2: accuracy improved from 0.89423 to 0.97300, saving model to LSTM.h5\n",
      "718/718 [==============================] - 308s 429ms/step - loss: 0.0900 - accuracy: 0.9730 - val_loss: 0.1066 - val_accuracy: 0.9683\n",
      "Epoch 3/10\n",
      "718/718 [==============================] - ETA: 0s - loss: 0.0611 - accuracy: 0.9816\n",
      "Epoch 3: accuracy improved from 0.97300 to 0.98158, saving model to LSTM.h5\n",
      "718/718 [==============================] - 321s 447ms/step - loss: 0.0611 - accuracy: 0.9816 - val_loss: 0.1186 - val_accuracy: 0.9690\n",
      "Epoch 4/10\n",
      "718/718 [==============================] - ETA: 0s - loss: 0.0424 - accuracy: 0.9866\n",
      "Epoch 4: accuracy improved from 0.98158 to 0.98659, saving model to LSTM.h5\n",
      "718/718 [==============================] - 196s 273ms/step - loss: 0.0424 - accuracy: 0.9866 - val_loss: 0.1629 - val_accuracy: 0.9565\n",
      "Epoch 5/10\n",
      "718/718 [==============================] - ETA: 0s - loss: 0.0326 - accuracy: 0.9896\n",
      "Epoch 5: accuracy improved from 0.98659 to 0.98964, saving model to LSTM.h5\n",
      "718/718 [==============================] - 164s 228ms/step - loss: 0.0326 - accuracy: 0.9896 - val_loss: 0.1520 - val_accuracy: 0.9620\n",
      "Epoch 6/10\n",
      "718/718 [==============================] - ETA: 0s - loss: 0.0269 - accuracy: 0.9919\n",
      "Epoch 6: accuracy improved from 0.98964 to 0.99190, saving model to LSTM.h5\n",
      "718/718 [==============================] - 174s 243ms/step - loss: 0.0269 - accuracy: 0.9919 - val_loss: 0.2013 - val_accuracy: 0.9530\n",
      "Epoch 7/10\n",
      "718/718 [==============================] - ETA: 0s - loss: 0.0208 - accuracy: 0.9935\n",
      "Epoch 7: accuracy improved from 0.99190 to 0.99347, saving model to LSTM.h5\n",
      "718/718 [==============================] - 191s 266ms/step - loss: 0.0208 - accuracy: 0.9935 - val_loss: 0.1945 - val_accuracy: 0.9522\n",
      "Epoch 8/10\n",
      "718/718 [==============================] - ETA: 0s - loss: 0.0173 - accuracy: 0.9945\n",
      "Epoch 8: accuracy improved from 0.99347 to 0.99447, saving model to LSTM.h5\n",
      "718/718 [==============================] - 169s 236ms/step - loss: 0.0173 - accuracy: 0.9945 - val_loss: 0.2134 - val_accuracy: 0.9581\n",
      "Epoch 9/10\n",
      "718/718 [==============================] - ETA: 0s - loss: 0.0096 - accuracy: 0.9972\n",
      "Epoch 9: accuracy improved from 0.99447 to 0.99721, saving model to LSTM.h5\n",
      "718/718 [==============================] - 173s 241ms/step - loss: 0.0096 - accuracy: 0.9972 - val_loss: 0.2171 - val_accuracy: 0.9589\n",
      "Epoch 10/10\n",
      "718/718 [==============================] - ETA: 0s - loss: 0.0086 - accuracy: 0.9971\n",
      "Epoch 10: accuracy did not improve from 0.99721\n",
      "718/718 [==============================] - 165s 230ms/step - loss: 0.0086 - accuracy: 0.9971 - val_loss: 0.2070 - val_accuracy: 0.9577\n"
     ]
    },
    {
     "data": {
      "text/plain": [
       "<keras.callbacks.History at 0x198358f6d10>"
      ]
     },
     "execution_count": 22,
     "metadata": {},
     "output_type": "execute_result"
    }
   ],
   "source": [
    "model.fit(X_train_padded, y_train, epochs=epochs, batch_size=batch_size, validation_split=0.1, callbacks=[M])"
   ]
  },
  {
   "cell_type": "code",
   "execution_count": 23,
   "id": "cb25308f",
   "metadata": {},
   "outputs": [
    {
     "name": "stdout",
     "output_type": "stream",
     "text": [
      "200/200 [==============================] - 5s 23ms/step\n"
     ]
    }
   ],
   "source": [
    "y_pred = model.predict(X_test_padded)\n",
    "y_pred_classes = np.argmax(y_pred, axis=1)\n",
    "y_true_classes = np.argmax(y_test, axis=1)"
   ]
  },
  {
   "cell_type": "code",
   "execution_count": 24,
   "id": "a6f0f26b",
   "metadata": {},
   "outputs": [
    {
     "name": "stdout",
     "output_type": "stream",
     "text": [
      "THE ACCURACY SCORE OF LSTM ARCHITECTURE IS : 95.25003919109578\n"
     ]
    }
   ],
   "source": [
    "from sklearn.metrics import accuracy_score\n",
    "\n",
    "AC = accuracy_score(y_true_classes,y_pred_classes)\n",
    "\n",
    "print(\"THE ACCURACY SCORE OF LSTM ARCHITECTURE IS :\",AC*100)"
   ]
  },
  {
   "cell_type": "code",
   "execution_count": 25,
   "id": "f6ced910",
   "metadata": {},
   "outputs": [
    {
     "name": "stdout",
     "output_type": "stream",
     "text": [
      "THE HAMMING LOSS OF LSTM ARCHITECTURE IS : 4.749960808904217\n"
     ]
    }
   ],
   "source": [
    "from sklearn.metrics import hamming_loss\n",
    "\n",
    "HL = hamming_loss(y_true_classes,y_pred_classes)\n",
    "\n",
    "print(\"THE HAMMING LOSS OF LSTM ARCHITECTURE IS :\",HL*100)"
   ]
  },
  {
   "cell_type": "code",
   "execution_count": 26,
   "id": "0d32cc59",
   "metadata": {},
   "outputs": [
    {
     "name": "stdout",
     "output_type": "stream",
     "text": [
      "THE CLASSIFICATION REPORT OF LSTM ARCHITECTURE:\n",
      "\n",
      "\n",
      "               precision    recall  f1-score   support\n",
      "\n",
      "           0       0.94      0.98      0.96      1536\n",
      "           1       0.98      0.98      0.98      1604\n",
      "           2       0.92      0.91      0.92      1592\n",
      "           3       0.96      0.94      0.95      1647\n",
      "\n",
      "    accuracy                           0.95      6379\n",
      "   macro avg       0.95      0.95      0.95      6379\n",
      "weighted avg       0.95      0.95      0.95      6379\n",
      "\n"
     ]
    }
   ],
   "source": [
    "from sklearn.metrics import classification_report\n",
    "\n",
    "CM = classification_report(y_true_classes,y_pred_classes)\n",
    "\n",
    "print('THE CLASSIFICATION REPORT OF LSTM ARCHITECTURE:\\n\\n\\n',CM)"
   ]
  },
  {
   "cell_type": "code",
   "execution_count": 27,
   "id": "2c8d5164",
   "metadata": {},
   "outputs": [
    {
     "name": "stdout",
     "output_type": "stream",
     "text": [
      "THE CONFUSION MATRIX SCORE OF LSTM ARCHITECTURE:\n",
      "\n",
      "\n",
      " [[1506    2   27    1]\n",
      " [  13 1565   20    6]\n",
      " [  73   18 1449   52]\n",
      " [  11    4   76 1556]]\n"
     ]
    }
   ],
   "source": [
    "from sklearn.metrics import confusion_matrix\n",
    "\n",
    "CM = confusion_matrix(y_true_classes,y_pred_classes)\n",
    "\n",
    "print('THE CONFUSION MATRIX SCORE OF LSTM ARCHITECTURE:\\n\\n\\n',CM)"
   ]
  },
  {
   "cell_type": "code",
   "execution_count": 28,
   "id": "91a18df0",
   "metadata": {},
   "outputs": [
    {
     "data": {
      "image/png": "[encoded data removed]",
      "text/plain": [
       "<Figure size 640x480 with 2 Axes>"
      ]
     },
     "metadata": {},
     "output_type": "display_data"
    }
   ],
   "source": [
    "import numpy as np\n",
    "import matplotlib.pyplot as plt\n",
    "from sklearn.metrics import confusion_matrix, ConfusionMatrixDisplay\n",
    "\n",
    "# Assuming you have the y_pred_classes and y_true_classes arrays with predicted and true labels respectively.\n",
    "\n",
    "# Calculate the confusion matrix\n",
    "cm = confusion_matrix(y_true_classes, y_pred_classes)\n",
    "\n",
    "# Display the confusion matrix using ConfusionMatrixDisplay\n",
    "classes = np.arange(cm.shape[0])  # Assuming your classes are integers from 0 to n_classes-1\n",
    "disp = ConfusionMatrixDisplay(confusion_matrix=cm, display_labels=classes)\n",
    "disp.plot(cmap='viridis', values_format='d')\n",
    "\n",
    "plt.title('DISPLAY CONFUSION MATRIX OF LSTM ARCHITECTURE\\n\\n')\n",
    "plt.xlabel('Predicted Label')\n",
    "plt.ylabel('True Label')\n",
    "plt.show()\n"
   ]
  },
  {
   "cell_type": "code",
   "execution_count": 29,
   "id": "f9aeded0",
   "metadata": {},
   "outputs": [
    {
     "data": {
      "image/png": "[encoded data removed]",
      "text/plain": [
       "<Figure size 500x500 with 1 Axes>"
      ]
     },
     "metadata": {},
     "output_type": "display_data"
    }
   ],
   "source": [
    "def graph():\n",
    "    import matplotlib.pyplot as plt\n",
    "    data=[AC]\n",
    "    alg=\"LSTM ARCHITECTURE\"\n",
    "    plt.figure(figsize=(5,5))\n",
    "    b=plt.bar(alg,data,color=(\"MAROON\"))\n",
    "    plt.title(\"THE ACCURACY SCORE OF LSTM ARCHITECTURE IS\\n\\n\\n\")\n",
    "    plt.legend(b,data,fontsize=9)\n",
    "graph()"
   ]
  },
  {
   "cell_type": "code",
   "execution_count": null,
   "id": "4171c8be",
   "metadata": {},
   "outputs": [],
   "source": []
  },
  {
   "cell_type": "code",
   "execution_count": null,
   "id": "689e3dcd",
   "metadata": {},
   "outputs": [],
   "source": []
  },
  {
   "cell_type": "code",
   "execution_count": null,
   "id": "63d1c1e6",
   "metadata": {},
   "outputs": [],
   "source": []
  },
  {
   "cell_type": "code",
   "execution_count": null,
   "id": "cea3f74d",
   "metadata": {},
   "outputs": [],
   "source": [
    "\n"
   ]
  }
 ],
 "metadata": {
  "kernelspec": {
   "display_name": "Python 3 (ipykernel)",
   "language": "python",
   "name": "python3"
  },
  "language_info": {
   "codemirror_mode": {
    "name": "ipython",
    "version": 3
   },
   "file_extension": ".py",
   "mimetype": "text/x-python",
   "name": "python",
   "nbconvert_exporter": "python",
   "pygments_lexer": "ipython3",
   "version": "3.11.3"
  }
 },
 "nbformat": 4,
 "nbformat_minor": 5
}
