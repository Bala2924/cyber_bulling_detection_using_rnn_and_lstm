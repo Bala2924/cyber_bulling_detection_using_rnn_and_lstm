{
 "cells": [
  {
   "cell_type": "markdown",
   "id": "4fd9416f",
   "metadata": {},
   "source": [
    "### SIMPLE RNN ARCHITECTURE "
   ]
  },
  {
   "cell_type": "code",
   "execution_count": 1,
   "id": "c2f70a17",
   "metadata": {},
   "outputs": [],
   "source": [
    "import pandas as pd\n",
    "import numpy as np"
   ]
  },
  {
   "cell_type": "code",
   "execution_count": 2,
   "id": "a226a92b",
   "metadata": {},
   "outputs": [
    {
     "data": {
      "text/html": [
       "<div>\n",
       "<style scoped>\n",
       "    .dataframe tbody tr th:only-of-type {\n",
       "        vertical-align: middle;\n",
       "    }\n",
       "\n",
       "    .dataframe tbody tr th {\n",
       "        vertical-align: top;\n",
       "    }\n",
       "\n",
       "    .dataframe thead th {\n",
       "        text-align: right;\n",
       "    }\n",
       "</style>\n",
       "<table border=\"1\" class=\"dataframe\">\n",
       "  <thead>\n",
       "    <tr style=\"text-align: right;\">\n",
       "      <th></th>\n",
       "      <th>tweet_text</th>\n",
       "      <th>cyberbullying_type</th>\n",
       "    </tr>\n",
       "  </thead>\n",
       "  <tbody>\n",
       "    <tr>\n",
       "      <th>0</th>\n",
       "      <td>Why is #aussietv so white? #MKR #theblock #ImA...</td>\n",
       "      <td>not_cyberbullying</td>\n",
       "    </tr>\n",
       "    <tr>\n",
       "      <th>1</th>\n",
       "      <td>@XochitlSuckkks a classy whore? Or more red ve...</td>\n",
       "      <td>not_cyberbullying</td>\n",
       "    </tr>\n",
       "    <tr>\n",
       "      <th>2</th>\n",
       "      <td>@Jason_Gio meh. :P  thanks for the heads up, b...</td>\n",
       "      <td>not_cyberbullying</td>\n",
       "    </tr>\n",
       "    <tr>\n",
       "      <th>3</th>\n",
       "      <td>@RudhoeEnglish This is an ISIS account pretend...</td>\n",
       "      <td>not_cyberbullying</td>\n",
       "    </tr>\n",
       "    <tr>\n",
       "      <th>4</th>\n",
       "      <td>@Raja5aab @Quickieleaks Yes, the test of god i...</td>\n",
       "      <td>not_cyberbullying</td>\n",
       "    </tr>\n",
       "  </tbody>\n",
       "</table>\n",
       "</div>"
      ],
      "text/plain": [
       "                                          tweet_text cyberbullying_type\n",
       "0  Why is #aussietv so white? #MKR #theblock #ImA...  not_cyberbullying\n",
       "1  @XochitlSuckkks a classy whore? Or more red ve...  not_cyberbullying\n",
       "2  @Jason_Gio meh. :P  thanks for the heads up, b...  not_cyberbullying\n",
       "3  @RudhoeEnglish This is an ISIS account pretend...  not_cyberbullying\n",
       "4  @Raja5aab @Quickieleaks Yes, the test of god i...  not_cyberbullying"
      ]
     },
     "execution_count": 2,
     "metadata": {},
     "output_type": "execute_result"
    }
   ],
   "source": [
    "Data = pd.read_csv('CYBER.csv', encoding=\"latin-1\")\n",
    "Data.head()"
   ]
  },
  {
   "cell_type": "code",
   "execution_count": 3,
   "id": "018a5021",
   "metadata": {},
   "outputs": [
    {
     "data": {
      "text/html": [
       "<div>\n",
       "<style scoped>\n",
       "    .dataframe tbody tr th:only-of-type {\n",
       "        vertical-align: middle;\n",
       "    }\n",
       "\n",
       "    .dataframe tbody tr th {\n",
       "        vertical-align: top;\n",
       "    }\n",
       "\n",
       "    .dataframe thead th {\n",
       "        text-align: right;\n",
       "    }\n",
       "</style>\n",
       "<table border=\"1\" class=\"dataframe\">\n",
       "  <thead>\n",
       "    <tr style=\"text-align: right;\">\n",
       "      <th></th>\n",
       "      <th>tweet_text</th>\n",
       "      <th>cyberbullying_type</th>\n",
       "    </tr>\n",
       "  </thead>\n",
       "  <tbody>\n",
       "    <tr>\n",
       "      <th>31890</th>\n",
       "      <td>Black ppl aren't expected to do anything, depe...</td>\n",
       "      <td>ethnicity</td>\n",
       "    </tr>\n",
       "    <tr>\n",
       "      <th>31891</th>\n",
       "      <td>Turner did not withhold his disappointment. Tu...</td>\n",
       "      <td>ethnicity</td>\n",
       "    </tr>\n",
       "    <tr>\n",
       "      <th>31892</th>\n",
       "      <td>I swear to God. This dumb nigger bitch. I have...</td>\n",
       "      <td>ethnicity</td>\n",
       "    </tr>\n",
       "    <tr>\n",
       "      <th>31893</th>\n",
       "      <td>Yea fuck you RT @therealexel: IF YOURE A NIGGE...</td>\n",
       "      <td>ethnicity</td>\n",
       "    </tr>\n",
       "    <tr>\n",
       "      <th>31894</th>\n",
       "      <td>Bro. U gotta chill RT @CHILLShrammy: Dog FUCK ...</td>\n",
       "      <td>ethnicity</td>\n",
       "    </tr>\n",
       "  </tbody>\n",
       "</table>\n",
       "</div>"
      ],
      "text/plain": [
       "                                              tweet_text cyberbullying_type\n",
       "31890  Black ppl aren't expected to do anything, depe...          ethnicity\n",
       "31891  Turner did not withhold his disappointment. Tu...          ethnicity\n",
       "31892  I swear to God. This dumb nigger bitch. I have...          ethnicity\n",
       "31893  Yea fuck you RT @therealexel: IF YOURE A NIGGE...          ethnicity\n",
       "31894  Bro. U gotta chill RT @CHILLShrammy: Dog FUCK ...          ethnicity"
      ]
     },
     "execution_count": 3,
     "metadata": {},
     "output_type": "execute_result"
    }
   ],
   "source": [
    "Data.tail()"
   ]
  },
  {
   "cell_type": "code",
   "execution_count": 4,
   "id": "dffa5199",
   "metadata": {},
   "outputs": [
    {
     "data": {
      "text/plain": [
       "array(['not_cyberbullying', 'religion', 'age', 'ethnicity'], dtype=object)"
      ]
     },
     "execution_count": 4,
     "metadata": {},
     "output_type": "execute_result"
    }
   ],
   "source": [
    "Data['cyberbullying_type'].unique()"
   ]
  },
  {
   "cell_type": "code",
   "execution_count": 5,
   "id": "888ca8b9",
   "metadata": {},
   "outputs": [],
   "source": [
    "Data.drop(Data.index[Data['cyberbullying_type'] == 'other_cyberbullying'], inplace=True)\n",
    "Data.drop(Data.index[Data['cyberbullying_type'] == 'gender'], inplace=True)"
   ]
  },
  {
   "cell_type": "code",
   "execution_count": 6,
   "id": "c3f36d3c",
   "metadata": {},
   "outputs": [
    {
     "data": {
      "text/plain": [
       "cyberbullying_type\n",
       "religion             7998\n",
       "age                  7992\n",
       "ethnicity            7961\n",
       "not_cyberbullying    7944\n",
       "Name: count, dtype: int64"
      ]
     },
     "execution_count": 6,
     "metadata": {},
     "output_type": "execute_result"
    }
   ],
   "source": [
    "Data['cyberbullying_type'].value_counts()"
   ]
  },
  {
   "cell_type": "code",
   "execution_count": 7,
   "id": "c52a20ee",
   "metadata": {},
   "outputs": [],
   "source": [
    "Data['tweet_text'] = Data['tweet_text'].apply(lambda x: x.lower() if pd.notna(x) else \"\")"
   ]
  },
  {
   "cell_type": "code",
   "execution_count": 8,
   "id": "9cdfa6eb",
   "metadata": {},
   "outputs": [],
   "source": [
    "from sklearn.preprocessing import LabelEncoder\n",
    "\n",
    "label_encoder = LabelEncoder()\n",
    "Data['cyberbullying_type'] = label_encoder.fit_transform(Data['cyberbullying_type'])"
   ]
  },
  {
   "cell_type": "code",
   "execution_count": 9,
   "id": "e8c1aec5",
   "metadata": {},
   "outputs": [],
   "source": [
    "num_classes = len(label_encoder.classes_) "
   ]
  },
  {
   "cell_type": "code",
   "execution_count": 10,
   "id": "7cc5b936",
   "metadata": {},
   "outputs": [],
   "source": [
    "x = Data['tweet_text']\n",
    "y = Data['cyberbullying_type']"
   ]
  },
  {
   "cell_type": "code",
   "execution_count": 11,
   "id": "4ac194d4",
   "metadata": {},
   "outputs": [],
   "source": [
    "from tensorflow.keras.utils import to_categorical\n",
    "\n",
    "y = to_categorical(y, num_classes=num_classes)"
   ]
  },
  {
   "cell_type": "code",
   "execution_count": 12,
   "id": "ca326c5f",
   "metadata": {},
   "outputs": [],
   "source": [
    "from sklearn.model_selection import train_test_split\n",
    "\n",
    "x_train, x_test, y_train, y_test = train_test_split(x, y, test_size=0.2, random_state=42)"
   ]
  },
  {
   "cell_type": "code",
   "execution_count": 13,
   "id": "c0d8c601",
   "metadata": {},
   "outputs": [],
   "source": [
    "max_words = 10000  \n",
    "max_sequence_length = 100"
   ]
  },
  {
   "cell_type": "code",
   "execution_count": 14,
   "id": "01dccb8a",
   "metadata": {},
   "outputs": [],
   "source": [
    "from tensorflow.keras.preprocessing.text import Tokenizer\n",
    "\n",
    "tokenizer = Tokenizer(num_words=max_words)\n",
    "tokenizer.fit_on_texts(x_train)"
   ]
  },
  {
   "cell_type": "code",
   "execution_count": 15,
   "id": "ae9b3287",
   "metadata": {},
   "outputs": [],
   "source": [
    "x_train_sequences = tokenizer.texts_to_sequences(x_train)\n",
    "x_test_sequences = tokenizer.texts_to_sequences(x_test)"
   ]
  },
  {
   "cell_type": "code",
   "execution_count": 16,
   "id": "bdcf5ee4",
   "metadata": {},
   "outputs": [],
   "source": [
    "from tensorflow.keras.preprocessing.sequence import pad_sequences\n",
    "\n",
    "x_train_padded = pad_sequences(x_train_sequences, maxlen=max_sequence_length)\n",
    "x_test_padded = pad_sequences(x_test_sequences, maxlen=max_sequence_length)"
   ]
  },
  {
   "cell_type": "code",
   "execution_count": 17,
   "id": "30f92539",
   "metadata": {},
   "outputs": [],
   "source": [
    "embedding_dim = 100  \n",
    "RNN_units = 128"
   ]
  },
  {
   "cell_type": "code",
   "execution_count": 18,
   "id": "0677be3c",
   "metadata": {},
   "outputs": [],
   "source": [
    "from tensorflow.keras.models import Sequential\n",
    "from tensorflow.keras.layers import Embedding\n",
    "from tensorflow.keras.layers import Bidirectional\n",
    "from tensorflow.keras.layers import SimpleRNN\n",
    "from tensorflow.keras.layers import Dense"
   ]
  },
  {
   "cell_type": "code",
   "execution_count": 19,
   "id": "95b60d13",
   "metadata": {},
   "outputs": [],
   "source": [
    "model = Sequential()\n",
    "model.add(Embedding(input_dim=max_words, output_dim=embedding_dim, input_length=max_sequence_length))\n",
    "model.add(Bidirectional(SimpleRNN(units=RNN_units, dropout=0.2, recurrent_dropout=0.2)))\n",
    "model.add(Dense(units=num_classes, activation='softmax'))"
   ]
  },
  {
   "cell_type": "code",
   "execution_count": 20,
   "id": "d1fc08c3",
   "metadata": {},
   "outputs": [],
   "source": [
    "model.compile(loss='categorical_crossentropy', optimizer='adam', metrics=['accuracy'])"
   ]
  },
  {
   "cell_type": "code",
   "execution_count": 21,
   "id": "3a533314",
   "metadata": {},
   "outputs": [],
   "source": [
    "from tensorflow.keras.callbacks import ModelCheckpoint\n",
    "\n",
    "model_path = \"SIMPLERNN.h5\"\n",
    "\n",
    "M = ModelCheckpoint(model_path, monitor='accuracy', verbose=1, save_best_only=True, mode='max')"
   ]
  },
  {
   "cell_type": "code",
   "execution_count": 22,
   "id": "60e08602",
   "metadata": {},
   "outputs": [],
   "source": [
    "epochs = 10\n",
    "batch_size = 32"
   ]
  },
  {
   "cell_type": "code",
   "execution_count": 23,
   "id": "6f803697",
   "metadata": {},
   "outputs": [
    {
     "name": "stdout",
     "output_type": "stream",
     "text": [
      "Epoch 1/10\n",
      "718/718 [==============================] - ETA: 0s - loss: 0.8239 - accuracy: 0.6402\n",
      "Epoch 1: accuracy improved from -inf to 0.64022, saving model to SIMPLERNN.h5\n",
      "718/718 [==============================] - 97s 105ms/step - loss: 0.8239 - accuracy: 0.6402 - val_loss: 0.4586 - val_accuracy: 0.8742\n",
      "Epoch 2/10\n",
      "718/718 [==============================] - ETA: 0s - loss: 0.3388 - accuracy: 0.8943\n",
      "Epoch 2: accuracy improved from 0.64022 to 0.89427, saving model to SIMPLERNN.h5\n",
      "718/718 [==============================] - 78s 109ms/step - loss: 0.3388 - accuracy: 0.8943 - val_loss: 0.4109 - val_accuracy: 0.8840\n",
      "Epoch 3/10\n",
      "718/718 [==============================] - ETA: 0s - loss: 0.3083 - accuracy: 0.9073\n",
      "Epoch 3: accuracy improved from 0.89427 to 0.90733, saving model to SIMPLERNN.h5\n",
      "718/718 [==============================] - 77s 108ms/step - loss: 0.3083 - accuracy: 0.9073 - val_loss: 0.2351 - val_accuracy: 0.9373\n",
      "Epoch 4/10\n",
      "718/718 [==============================] - ETA: 0s - loss: 0.4736 - accuracy: 0.8358\n",
      "Epoch 4: accuracy did not improve from 0.90733\n",
      "718/718 [==============================] - 71s 99ms/step - loss: 0.4736 - accuracy: 0.8358 - val_loss: 0.5797 - val_accuracy: 0.7770\n",
      "Epoch 5/10\n",
      "718/718 [==============================] - ETA: 0s - loss: 0.7148 - accuracy: 0.7247\n",
      "Epoch 5: accuracy did not improve from 0.90733\n",
      "718/718 [==============================] - 75s 105ms/step - loss: 0.7148 - accuracy: 0.7247 - val_loss: 0.7956 - val_accuracy: 0.6799\n",
      "Epoch 6/10\n",
      "718/718 [==============================] - ETA: 0s - loss: 0.4800 - accuracy: 0.8261\n",
      "Epoch 6: accuracy did not improve from 0.90733\n",
      "718/718 [==============================] - 82s 114ms/step - loss: 0.4800 - accuracy: 0.8261 - val_loss: 0.4851 - val_accuracy: 0.8382\n",
      "Epoch 7/10\n",
      "718/718 [==============================] - ETA: 0s - loss: 0.3344 - accuracy: 0.8892\n",
      "Epoch 7: accuracy did not improve from 0.90733\n",
      "718/718 [==============================] - 78s 109ms/step - loss: 0.3344 - accuracy: 0.8892 - val_loss: 0.5600 - val_accuracy: 0.7712\n",
      "Epoch 8/10\n",
      "718/718 [==============================] - ETA: 0s - loss: 0.4905 - accuracy: 0.8118\n",
      "Epoch 8: accuracy did not improve from 0.90733\n",
      "718/718 [==============================] - 80s 111ms/step - loss: 0.4905 - accuracy: 0.8118 - val_loss: 0.6620 - val_accuracy: 0.7786\n",
      "Epoch 9/10\n",
      "718/718 [==============================] - ETA: 0s - loss: 0.3990 - accuracy: 0.8526\n",
      "Epoch 9: accuracy did not improve from 0.90733\n",
      "718/718 [==============================] - 72s 100ms/step - loss: 0.3990 - accuracy: 0.8526 - val_loss: 0.4103 - val_accuracy: 0.8660\n",
      "Epoch 10/10\n",
      "718/718 [==============================] - ETA: 0s - loss: 0.4154 - accuracy: 0.8501\n",
      "Epoch 10: accuracy did not improve from 0.90733\n",
      "718/718 [==============================] - 72s 101ms/step - loss: 0.4154 - accuracy: 0.8501 - val_loss: 0.5131 - val_accuracy: 0.8076\n"
     ]
    },
    {
     "data": {
      "text/plain": [
       "<keras.callbacks.History at 0x22dd73d5e10>"
      ]
     },
     "execution_count": 23,
     "metadata": {},
     "output_type": "execute_result"
    }
   ],
   "source": [
    "model.fit(x_train_padded, y_train, epochs=epochs, batch_size=batch_size, validation_split=0.1, callbacks=[M])"
   ]
  },
  {
   "cell_type": "code",
   "execution_count": 24,
   "id": "b5a5293b",
   "metadata": {},
   "outputs": [
    {
     "name": "stdout",
     "output_type": "stream",
     "text": [
      "200/200 [==============================] - 6s 20ms/step\n"
     ]
    }
   ],
   "source": [
    "y_pred = model.predict(x_test_padded)\n",
    "y_pred_classes = np.argmax(y_pred, axis=1)\n",
    "y_true_classes = np.argmax(y_test, axis=1)"
   ]
  },
  {
   "cell_type": "code",
   "execution_count": 25,
   "id": "7afd0f03",
   "metadata": {},
   "outputs": [
    {
     "name": "stdout",
     "output_type": "stream",
     "text": [
      "THE ACCURACY SCORE OF SIMPLE RNN ARCHITECTURE IS : 81.07853895594921\n"
     ]
    }
   ],
   "source": [
    "from sklearn.metrics import accuracy_score\n",
    "\n",
    "AC = accuracy_score(y_pred_classes,y_true_classes)\n",
    "\n",
    "print(\"THE ACCURACY SCORE OF SIMPLE RNN ARCHITECTURE IS :\",AC*100)"
   ]
  },
  {
   "cell_type": "code",
   "execution_count": 26,
   "id": "ea2ef045",
   "metadata": {},
   "outputs": [
    {
     "name": "stdout",
     "output_type": "stream",
     "text": [
      "THE HAMMING LOSS OF SIMPLE RNN ARCHITECTURE IS : 18.92146104405079\n"
     ]
    }
   ],
   "source": [
    "from sklearn.metrics import hamming_loss\n",
    "\n",
    "HL = hamming_loss(y_pred_classes,y_true_classes)\n",
    "\n",
    "print(\"THE HAMMING LOSS OF SIMPLE RNN ARCHITECTURE IS :\",HL*100)"
   ]
  },
  {
   "cell_type": "code",
   "execution_count": 27,
   "id": "5c2490d3",
   "metadata": {},
   "outputs": [
    {
     "name": "stdout",
     "output_type": "stream",
     "text": [
      "THE CLASSIFICATION REPORT OF SIMPLE RNN ARCHITECTURE:\n",
      "\n",
      "\n",
      "               precision    recall  f1-score   support\n",
      "\n",
      "           0       0.73      0.68      0.71      1645\n",
      "           1       0.98      0.89      0.93      1770\n",
      "           2       0.62      0.73      0.67      1353\n",
      "           3       0.91      0.93      0.92      1611\n",
      "\n",
      "    accuracy                           0.81      6379\n",
      "   macro avg       0.81      0.81      0.81      6379\n",
      "weighted avg       0.82      0.81      0.81      6379\n",
      "\n"
     ]
    }
   ],
   "source": [
    "from sklearn.metrics import classification_report\n",
    "\n",
    "CR = classification_report(y_pred_classes,y_true_classes)\n",
    "\n",
    "print('THE CLASSIFICATION REPORT OF SIMPLE RNN ARCHITECTURE:\\n\\n\\n',CR)"
   ]
  },
  {
   "cell_type": "code",
   "execution_count": 28,
   "id": "092eabd8",
   "metadata": {},
   "outputs": [
    {
     "name": "stdout",
     "output_type": "stream",
     "text": [
      "THE CONFUSION MATRIX SCORE OF SIMPLE RNN ARCHITECTURE:\n",
      "\n",
      "\n",
      " [[1125   14  488   18]\n",
      " [  60 1569   39  102]\n",
      " [ 332    8  982   31]\n",
      " [  19   13   83 1496]]\n"
     ]
    }
   ],
   "source": [
    "from sklearn.metrics import confusion_matrix\n",
    "\n",
    "CM = confusion_matrix(y_pred_classes,y_true_classes)\n",
    "\n",
    "print('THE CONFUSION MATRIX SCORE OF SIMPLE RNN ARCHITECTURE:\\n\\n\\n',CM)"
   ]
  },
  {
   "cell_type": "code",
   "execution_count": 29,
   "id": "28378a3d",
   "metadata": {},
   "outputs": [
    {
     "data": {
      "image/png": "[encoded data removed]",
      "text/plain": [
       "<Figure size 640x480 with 2 Axes>"
      ]
     },
     "metadata": {},
     "output_type": "display_data"
    }
   ],
   "source": [
    "import numpy as np\n",
    "import matplotlib.pyplot as plt\n",
    "from sklearn.metrics import confusion_matrix, ConfusionMatrixDisplay\n",
    "\n",
    "# Assuming you have the y_pred_classes and y_true_classes arrays with predicted and true labels respectively.\n",
    "\n",
    "# Calculate the confusion matrix\n",
    "cm = confusion_matrix(y_true_classes, y_pred_classes)\n",
    "\n",
    "# Display the confusion matrix using ConfusionMatrixDisplay\n",
    "classes = np.arange(cm.shape[0])  # Assuming your classes are integers from 0 to n_classes-1\n",
    "disp = ConfusionMatrixDisplay(confusion_matrix=cm, display_labels=classes)\n",
    "disp.plot(cmap='viridis', values_format='d')\n",
    "\n",
    "plt.title('DISPLAY CONFUSION MATRIX OF SIMPLE RNN ARCHITECTURE\\n\\n')\n",
    "plt.xlabel('Predicted Label')\n",
    "plt.ylabel('True Label')\n",
    "plt.show()\n"
   ]
  },
  {
   "cell_type": "code",
   "execution_count": 30,
   "id": "f3a970f4",
   "metadata": {},
   "outputs": [
    {
     "data": {
      "image/png": "[encoded data removed]",
      "text/plain": [
       "<Figure size 500x500 with 1 Axes>"
      ]
     },
     "metadata": {},
     "output_type": "display_data"
    }
   ],
   "source": [
    "def graph():\n",
    "    import matplotlib.pyplot as plt\n",
    "    data=[AC]\n",
    "    alg=\"SIMPLE RNN ARCHITECTURE\"\n",
    "    plt.figure(figsize=(5,5))\n",
    "    b=plt.bar(alg,data,color=(\"GREEN\"))\n",
    "    plt.title(\"THE ACCURACY SCORE OF SIMPLE RNN ARCHITECTURE IS\\n\\n\\n\")\n",
    "    plt.legend(b,data,fontsize=9)\n",
    "graph()"
   ]
  },
  {
   "cell_type": "code",
   "execution_count": null,
   "id": "13ce03c8",
   "metadata": {},
   "outputs": [],
   "source": []
  }
 ],
 "metadata": {
  "kernelspec": {
   "display_name": "Python 3 (ipykernel)",
   "language": "python",
   "name": "python3"
  },
  "language_info": {
   "codemirror_mode": {
    "name": "ipython",
    "version": 3
   },
   "file_extension": ".py",
   "mimetype": "text/x-python",
   "name": "python",
   "nbconvert_exporter": "python",
   "pygments_lexer": "ipython3",
   "version": "3.11.3"
  }
 },
 "nbformat": 4,
 "nbformat_minor": 5
}
